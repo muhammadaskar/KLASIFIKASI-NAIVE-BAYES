{
 "metadata": {
  "language_info": {
   "codemirror_mode": {
    "name": "ipython",
    "version": 3
   },
   "file_extension": ".py",
   "mimetype": "text/x-python",
   "name": "python",
   "nbconvert_exporter": "python",
   "pygments_lexer": "ipython3",
   "version": "3.8.2"
  },
  "orig_nbformat": 2,
  "kernelspec": {
   "name": "python382jvsc74a57bd0d18d3fb032abcda8bc4f7f1dcf8addd53ffee00cf35b8290258e5df4b173f72c",
   "display_name": "Python 3.8.2 32-bit"
  },
  "metadata": {
   "interpreter": {
    "hash": "d18d3fb032abcda8bc4f7f1dcf8addd53ffee00cf35b8290258e5df4b173f72c"
   }
  }
 },
 "nbformat": 4,
 "nbformat_minor": 2,
 "cells": [
  {
   "cell_type": "code",
   "execution_count": 39,
   "metadata": {},
   "outputs": [
    {
     "output_type": "execute_result",
     "data": {
      "text/plain": [
       "   Jenis Kelamin  suka musik  Suka Membaca  Suka Olahraga  Senang Diskusi  \\\n",
       "0      Laki-laki           2             1              1               2   \n",
       "1      Perempuan           1             2              2               1   \n",
       "2      Perempuan           1             1              2               1   \n",
       "3      Laki-laki           3             2              3               1   \n",
       "4      Laki-laki           1             2              2               1   \n",
       "5      Laki-laki           1             1              2               1   \n",
       "6      Laki-laki           2             3              3               2   \n",
       "7      Perempuan           3             3              1               1   \n",
       "8      Perempuan           3             2              1               2   \n",
       "9      Perempuan           1             2              1               3   \n",
       "10     Laki-laki           2             3              2               2   \n",
       "11     Laki-laki           2             1              2               2   \n",
       "12     Perempuan           2             1              1               2   \n",
       "13     Perempuan           2             2              1               2   \n",
       "14     Laki-laki           1             1              2               1   \n",
       "\n",
       "    Suka Menggambar  Suka Menari  Gaya Belajar  \n",
       "0                 1            1             1  \n",
       "1                 2            1             2  \n",
       "2                 1            2             3  \n",
       "3                 1            2             3  \n",
       "4                 2            1             2  \n",
       "5                 1            2             3  \n",
       "6                 1            1             1  \n",
       "7                 2            2             2  \n",
       "8                 1            1             1  \n",
       "9                 2            1             2  \n",
       "10                1            1             2  \n",
       "11                1            1             1  \n",
       "12                3            1             1  \n",
       "13                1            3             1  \n",
       "14                1            1             3  "
      ],
      "text/html": "<div>\n<style scoped>\n    .dataframe tbody tr th:only-of-type {\n        vertical-align: middle;\n    }\n\n    .dataframe tbody tr th {\n        vertical-align: top;\n    }\n\n    .dataframe thead th {\n        text-align: right;\n    }\n</style>\n<table border=\"1\" class=\"dataframe\">\n  <thead>\n    <tr style=\"text-align: right;\">\n      <th></th>\n      <th>Jenis Kelamin</th>\n      <th>suka musik</th>\n      <th>Suka Membaca</th>\n      <th>Suka Olahraga</th>\n      <th>Senang Diskusi</th>\n      <th>Suka Menggambar</th>\n      <th>Suka Menari</th>\n      <th>Gaya Belajar</th>\n    </tr>\n  </thead>\n  <tbody>\n    <tr>\n      <th>0</th>\n      <td>Laki-laki</td>\n      <td>2</td>\n      <td>1</td>\n      <td>1</td>\n      <td>2</td>\n      <td>1</td>\n      <td>1</td>\n      <td>1</td>\n    </tr>\n    <tr>\n      <th>1</th>\n      <td>Perempuan</td>\n      <td>1</td>\n      <td>2</td>\n      <td>2</td>\n      <td>1</td>\n      <td>2</td>\n      <td>1</td>\n      <td>2</td>\n    </tr>\n    <tr>\n      <th>2</th>\n      <td>Perempuan</td>\n      <td>1</td>\n      <td>1</td>\n      <td>2</td>\n      <td>1</td>\n      <td>1</td>\n      <td>2</td>\n      <td>3</td>\n    </tr>\n    <tr>\n      <th>3</th>\n      <td>Laki-laki</td>\n      <td>3</td>\n      <td>2</td>\n      <td>3</td>\n      <td>1</td>\n      <td>1</td>\n      <td>2</td>\n      <td>3</td>\n    </tr>\n    <tr>\n      <th>4</th>\n      <td>Laki-laki</td>\n      <td>1</td>\n      <td>2</td>\n      <td>2</td>\n      <td>1</td>\n      <td>2</td>\n      <td>1</td>\n      <td>2</td>\n    </tr>\n    <tr>\n      <th>5</th>\n      <td>Laki-laki</td>\n      <td>1</td>\n      <td>1</td>\n      <td>2</td>\n      <td>1</td>\n      <td>1</td>\n      <td>2</td>\n      <td>3</td>\n    </tr>\n    <tr>\n      <th>6</th>\n      <td>Laki-laki</td>\n      <td>2</td>\n      <td>3</td>\n      <td>3</td>\n      <td>2</td>\n      <td>1</td>\n      <td>1</td>\n      <td>1</td>\n    </tr>\n    <tr>\n      <th>7</th>\n      <td>Perempuan</td>\n      <td>3</td>\n      <td>3</td>\n      <td>1</td>\n      <td>1</td>\n      <td>2</td>\n      <td>2</td>\n      <td>2</td>\n    </tr>\n    <tr>\n      <th>8</th>\n      <td>Perempuan</td>\n      <td>3</td>\n      <td>2</td>\n      <td>1</td>\n      <td>2</td>\n      <td>1</td>\n      <td>1</td>\n      <td>1</td>\n    </tr>\n    <tr>\n      <th>9</th>\n      <td>Perempuan</td>\n      <td>1</td>\n      <td>2</td>\n      <td>1</td>\n      <td>3</td>\n      <td>2</td>\n      <td>1</td>\n      <td>2</td>\n    </tr>\n    <tr>\n      <th>10</th>\n      <td>Laki-laki</td>\n      <td>2</td>\n      <td>3</td>\n      <td>2</td>\n      <td>2</td>\n      <td>1</td>\n      <td>1</td>\n      <td>2</td>\n    </tr>\n    <tr>\n      <th>11</th>\n      <td>Laki-laki</td>\n      <td>2</td>\n      <td>1</td>\n      <td>2</td>\n      <td>2</td>\n      <td>1</td>\n      <td>1</td>\n      <td>1</td>\n    </tr>\n    <tr>\n      <th>12</th>\n      <td>Perempuan</td>\n      <td>2</td>\n      <td>1</td>\n      <td>1</td>\n      <td>2</td>\n      <td>3</td>\n      <td>1</td>\n      <td>1</td>\n    </tr>\n    <tr>\n      <th>13</th>\n      <td>Perempuan</td>\n      <td>2</td>\n      <td>2</td>\n      <td>1</td>\n      <td>2</td>\n      <td>1</td>\n      <td>3</td>\n      <td>1</td>\n    </tr>\n    <tr>\n      <th>14</th>\n      <td>Laki-laki</td>\n      <td>1</td>\n      <td>1</td>\n      <td>2</td>\n      <td>1</td>\n      <td>1</td>\n      <td>1</td>\n      <td>3</td>\n    </tr>\n  </tbody>\n</table>\n</div>"
     },
     "metadata": {},
     "execution_count": 39
    }
   ],
   "source": [
    "import pandas as pd\n",
    "import numpy as np\n",
    "import matplotlib.pyplot as plt\n",
    "#memasukan data latih\n",
    "datalatih = pd.read_excel(\"data testing.xls\")\n",
    "datalatih.head(15)\n",
    "\n",
    "# KETERANGAN\n",
    "\n",
    "# suka musik \n",
    "#  1 = tidak suka\n",
    "#  2 = suka\n",
    "#  3 = kadang - kadang\n",
    "\n",
    "# suka membaca\n",
    "#  1 = tidak suka\n",
    "#  2 = suka\n",
    "#  3 = kadang - kadang\n",
    "\n",
    "# suka olahraga\n",
    "#  1 = tidak suka\n",
    "#  2 = suka\n",
    "#  3 = kadang - kadang\n",
    "\n",
    "# senang diskusi\n",
    "#  1 = tidak suka\n",
    "#  2 = suka\n",
    "#  3 = kadang - kadang\n",
    "\n",
    "# suka menggambar\n",
    "#  1 = tidak suka\n",
    "#  2 = suka\n",
    "#  3 = kadang - kadang\n",
    "\n",
    "# suka menari\n",
    "#  1 = tidak suka\n",
    "#  2 = suka\n",
    "#  3 = kadang - kadang\n",
    "\n",
    "# gaya belajar\n",
    "#  1 = Auditori\n",
    "#  2 = Visual\n",
    "#  3 = Kinestetik"
   ]
  },
  {
   "cell_type": "code",
   "execution_count": 40,
   "metadata": {},
   "outputs": [
    {
     "output_type": "stream",
     "name": "stdout",
     "text": [
      "<class 'pandas.core.frame.DataFrame'>\nRangeIndex: 15 entries, 0 to 14\nData columns (total 8 columns):\n #   Column           Non-Null Count  Dtype \n---  ------           --------------  ----- \n 0   Jenis Kelamin    15 non-null     object\n 1   suka musik       15 non-null     int64 \n 2   Suka Membaca     15 non-null     int64 \n 3   Suka Olahraga    15 non-null     int64 \n 4   Senang Diskusi   15 non-null     int64 \n 5   Suka Menggambar  15 non-null     int64 \n 6   Suka Menari      15 non-null     int64 \n 7   Gaya Belajar     15 non-null     int64 \ndtypes: int64(7), object(1)\nmemory usage: 964.0+ bytes\n"
     ]
    }
   ],
   "source": [
    "datalatih.info()"
   ]
  },
  {
   "cell_type": "code",
   "execution_count": 41,
   "metadata": {},
   "outputs": [
    {
     "output_type": "execute_result",
     "data": {
      "text/plain": [
       "    suka musik  Suka Membaca  Suka Olahraga  Senang Diskusi  Suka Menggambar  \\\n",
       "0            2             1              1               2                1   \n",
       "1            1             2              2               1                2   \n",
       "2            1             1              2               1                1   \n",
       "3            3             2              3               1                1   \n",
       "4            1             2              2               1                2   \n",
       "5            1             1              2               1                1   \n",
       "6            2             3              3               2                1   \n",
       "7            3             3              1               1                2   \n",
       "8            3             2              1               2                1   \n",
       "9            1             2              1               3                2   \n",
       "10           2             3              2               2                1   \n",
       "11           2             1              2               2                1   \n",
       "12           2             1              1               2                3   \n",
       "13           2             2              1               2                1   \n",
       "14           1             1              2               1                1   \n",
       "\n",
       "    Suka Menari  Gaya Belajar  \n",
       "0             1             1  \n",
       "1             1             2  \n",
       "2             2             3  \n",
       "3             2             3  \n",
       "4             1             2  \n",
       "5             2             3  \n",
       "6             1             1  \n",
       "7             2             2  \n",
       "8             1             1  \n",
       "9             1             2  \n",
       "10            1             2  \n",
       "11            1             1  \n",
       "12            1             1  \n",
       "13            3             1  \n",
       "14            1             3  "
      ],
      "text/html": "<div>\n<style scoped>\n    .dataframe tbody tr th:only-of-type {\n        vertical-align: middle;\n    }\n\n    .dataframe tbody tr th {\n        vertical-align: top;\n    }\n\n    .dataframe thead th {\n        text-align: right;\n    }\n</style>\n<table border=\"1\" class=\"dataframe\">\n  <thead>\n    <tr style=\"text-align: right;\">\n      <th></th>\n      <th>suka musik</th>\n      <th>Suka Membaca</th>\n      <th>Suka Olahraga</th>\n      <th>Senang Diskusi</th>\n      <th>Suka Menggambar</th>\n      <th>Suka Menari</th>\n      <th>Gaya Belajar</th>\n    </tr>\n  </thead>\n  <tbody>\n    <tr>\n      <th>0</th>\n      <td>2</td>\n      <td>1</td>\n      <td>1</td>\n      <td>2</td>\n      <td>1</td>\n      <td>1</td>\n      <td>1</td>\n    </tr>\n    <tr>\n      <th>1</th>\n      <td>1</td>\n      <td>2</td>\n      <td>2</td>\n      <td>1</td>\n      <td>2</td>\n      <td>1</td>\n      <td>2</td>\n    </tr>\n    <tr>\n      <th>2</th>\n      <td>1</td>\n      <td>1</td>\n      <td>2</td>\n      <td>1</td>\n      <td>1</td>\n      <td>2</td>\n      <td>3</td>\n    </tr>\n    <tr>\n      <th>3</th>\n      <td>3</td>\n      <td>2</td>\n      <td>3</td>\n      <td>1</td>\n      <td>1</td>\n      <td>2</td>\n      <td>3</td>\n    </tr>\n    <tr>\n      <th>4</th>\n      <td>1</td>\n      <td>2</td>\n      <td>2</td>\n      <td>1</td>\n      <td>2</td>\n      <td>1</td>\n      <td>2</td>\n    </tr>\n    <tr>\n      <th>5</th>\n      <td>1</td>\n      <td>1</td>\n      <td>2</td>\n      <td>1</td>\n      <td>1</td>\n      <td>2</td>\n      <td>3</td>\n    </tr>\n    <tr>\n      <th>6</th>\n      <td>2</td>\n      <td>3</td>\n      <td>3</td>\n      <td>2</td>\n      <td>1</td>\n      <td>1</td>\n      <td>1</td>\n    </tr>\n    <tr>\n      <th>7</th>\n      <td>3</td>\n      <td>3</td>\n      <td>1</td>\n      <td>1</td>\n      <td>2</td>\n      <td>2</td>\n      <td>2</td>\n    </tr>\n    <tr>\n      <th>8</th>\n      <td>3</td>\n      <td>2</td>\n      <td>1</td>\n      <td>2</td>\n      <td>1</td>\n      <td>1</td>\n      <td>1</td>\n    </tr>\n    <tr>\n      <th>9</th>\n      <td>1</td>\n      <td>2</td>\n      <td>1</td>\n      <td>3</td>\n      <td>2</td>\n      <td>1</td>\n      <td>2</td>\n    </tr>\n    <tr>\n      <th>10</th>\n      <td>2</td>\n      <td>3</td>\n      <td>2</td>\n      <td>2</td>\n      <td>1</td>\n      <td>1</td>\n      <td>2</td>\n    </tr>\n    <tr>\n      <th>11</th>\n      <td>2</td>\n      <td>1</td>\n      <td>2</td>\n      <td>2</td>\n      <td>1</td>\n      <td>1</td>\n      <td>1</td>\n    </tr>\n    <tr>\n      <th>12</th>\n      <td>2</td>\n      <td>1</td>\n      <td>1</td>\n      <td>2</td>\n      <td>3</td>\n      <td>1</td>\n      <td>1</td>\n    </tr>\n    <tr>\n      <th>13</th>\n      <td>2</td>\n      <td>2</td>\n      <td>1</td>\n      <td>2</td>\n      <td>1</td>\n      <td>3</td>\n      <td>1</td>\n    </tr>\n    <tr>\n      <th>14</th>\n      <td>1</td>\n      <td>1</td>\n      <td>2</td>\n      <td>1</td>\n      <td>1</td>\n      <td>1</td>\n      <td>3</td>\n    </tr>\n  </tbody>\n</table>\n</div>"
     },
     "metadata": {},
     "execution_count": 41
    }
   ],
   "source": [
    "x = datalatih.drop([\"Jenis Kelamin\"], axis=1)\n",
    "x.head(15)"
   ]
  },
  {
   "cell_type": "code",
   "execution_count": 42,
   "metadata": {},
   "outputs": [
    {
     "output_type": "execute_result",
     "data": {
      "text/plain": [
       "0     1\n",
       "1     2\n",
       "2     3\n",
       "3     3\n",
       "4     2\n",
       "5     3\n",
       "6     1\n",
       "7     2\n",
       "8     1\n",
       "9     2\n",
       "10    2\n",
       "11    1\n",
       "12    1\n",
       "13    1\n",
       "14    3\n",
       "Name: Gaya Belajar, dtype: int64"
      ]
     },
     "metadata": {},
     "execution_count": 42
    }
   ],
   "source": [
    "y = datalatih[\"Gaya Belajar\"]\n",
    "y.head(15)"
   ]
  },
  {
   "cell_type": "code",
   "execution_count": 43,
   "metadata": {},
   "outputs": [
    {
     "output_type": "execute_result",
     "data": {
      "text/plain": [
       "  Jenis Kelamin  suka musik  Suka Membaca  Suka Olahraga  Senang Diskusi  \\\n",
       "0     perempuan           2             3              1               2   \n",
       "1     laki-laki           1             1              2               3   \n",
       "2     perempuan           2             2              1               1   \n",
       "3     laki-laki           1             3              2               3   \n",
       "4     perempuan           2             1              1               2   \n",
       "\n",
       "   Suka Menggambar  Suka Menari  Gaya Belajar  \n",
       "0                2            1             3  \n",
       "1                1            1             3  \n",
       "2                2            3             2  \n",
       "3                1            1             1  \n",
       "4                3            1             2  "
      ],
      "text/html": "<div>\n<style scoped>\n    .dataframe tbody tr th:only-of-type {\n        vertical-align: middle;\n    }\n\n    .dataframe tbody tr th {\n        vertical-align: top;\n    }\n\n    .dataframe thead th {\n        text-align: right;\n    }\n</style>\n<table border=\"1\" class=\"dataframe\">\n  <thead>\n    <tr style=\"text-align: right;\">\n      <th></th>\n      <th>Jenis Kelamin</th>\n      <th>suka musik</th>\n      <th>Suka Membaca</th>\n      <th>Suka Olahraga</th>\n      <th>Senang Diskusi</th>\n      <th>Suka Menggambar</th>\n      <th>Suka Menari</th>\n      <th>Gaya Belajar</th>\n    </tr>\n  </thead>\n  <tbody>\n    <tr>\n      <th>0</th>\n      <td>perempuan</td>\n      <td>2</td>\n      <td>3</td>\n      <td>1</td>\n      <td>2</td>\n      <td>2</td>\n      <td>1</td>\n      <td>3</td>\n    </tr>\n    <tr>\n      <th>1</th>\n      <td>laki-laki</td>\n      <td>1</td>\n      <td>1</td>\n      <td>2</td>\n      <td>3</td>\n      <td>1</td>\n      <td>1</td>\n      <td>3</td>\n    </tr>\n    <tr>\n      <th>2</th>\n      <td>perempuan</td>\n      <td>2</td>\n      <td>2</td>\n      <td>1</td>\n      <td>1</td>\n      <td>2</td>\n      <td>3</td>\n      <td>2</td>\n    </tr>\n    <tr>\n      <th>3</th>\n      <td>laki-laki</td>\n      <td>1</td>\n      <td>3</td>\n      <td>2</td>\n      <td>3</td>\n      <td>1</td>\n      <td>1</td>\n      <td>1</td>\n    </tr>\n    <tr>\n      <th>4</th>\n      <td>perempuan</td>\n      <td>2</td>\n      <td>1</td>\n      <td>1</td>\n      <td>2</td>\n      <td>3</td>\n      <td>1</td>\n      <td>2</td>\n    </tr>\n  </tbody>\n</table>\n</div>"
     },
     "metadata": {},
     "execution_count": 43
    }
   ],
   "source": [
    "from sklearn.model_selection import train_test_split\n",
    "# Import Gaussian Naive Bayes model\n",
    "from sklearn.naive_bayes import GaussianNB\n",
    "# Mengaktifkan/memanggil/membuat fungsi klasifikasi Naive bayes\n",
    "modelnb = GaussianNB()\n",
    "# Memasukkan data training pada fungsi klasifikasi naive bayes\n",
    "nbtrain = modelnb.fit(x, y)\n",
    "datauji = pd.read_excel(\"data uji.xls\")\n",
    "datauji.head(5)"
   ]
  },
  {
   "cell_type": "code",
   "execution_count": 44,
   "metadata": {},
   "outputs": [
    {
     "output_type": "execute_result",
     "data": {
      "text/plain": [
       "   suka musik  Suka Membaca  Suka Olahraga  Senang Diskusi  Suka Menggambar  \\\n",
       "0           2             3              1               2                2   \n",
       "1           1             1              2               3                1   \n",
       "2           2             2              1               1                2   \n",
       "3           1             3              2               3                1   \n",
       "4           2             1              1               2                3   \n",
       "\n",
       "   Suka Menari  Gaya Belajar  \n",
       "0            1             3  \n",
       "1            1             3  \n",
       "2            3             2  \n",
       "3            1             1  \n",
       "4            1             2  "
      ],
      "text/html": "<div>\n<style scoped>\n    .dataframe tbody tr th:only-of-type {\n        vertical-align: middle;\n    }\n\n    .dataframe tbody tr th {\n        vertical-align: top;\n    }\n\n    .dataframe thead th {\n        text-align: right;\n    }\n</style>\n<table border=\"1\" class=\"dataframe\">\n  <thead>\n    <tr style=\"text-align: right;\">\n      <th></th>\n      <th>suka musik</th>\n      <th>Suka Membaca</th>\n      <th>Suka Olahraga</th>\n      <th>Senang Diskusi</th>\n      <th>Suka Menggambar</th>\n      <th>Suka Menari</th>\n      <th>Gaya Belajar</th>\n    </tr>\n  </thead>\n  <tbody>\n    <tr>\n      <th>0</th>\n      <td>2</td>\n      <td>3</td>\n      <td>1</td>\n      <td>2</td>\n      <td>2</td>\n      <td>1</td>\n      <td>3</td>\n    </tr>\n    <tr>\n      <th>1</th>\n      <td>1</td>\n      <td>1</td>\n      <td>2</td>\n      <td>3</td>\n      <td>1</td>\n      <td>1</td>\n      <td>3</td>\n    </tr>\n    <tr>\n      <th>2</th>\n      <td>2</td>\n      <td>2</td>\n      <td>1</td>\n      <td>1</td>\n      <td>2</td>\n      <td>3</td>\n      <td>2</td>\n    </tr>\n    <tr>\n      <th>3</th>\n      <td>1</td>\n      <td>3</td>\n      <td>2</td>\n      <td>3</td>\n      <td>1</td>\n      <td>1</td>\n      <td>1</td>\n    </tr>\n    <tr>\n      <th>4</th>\n      <td>2</td>\n      <td>1</td>\n      <td>1</td>\n      <td>2</td>\n      <td>3</td>\n      <td>1</td>\n      <td>2</td>\n    </tr>\n  </tbody>\n</table>\n</div>"
     },
     "metadata": {},
     "execution_count": 44
    }
   ],
   "source": [
    "x_test = datauji.drop([\"Jenis Kelamin\"], axis=1)\n",
    "x_test.head(5)"
   ]
  },
  {
   "cell_type": "code",
   "execution_count": 45,
   "metadata": {},
   "outputs": [
    {
     "output_type": "execute_result",
     "data": {
      "text/plain": [
       "0    3\n",
       "1    3\n",
       "2    2\n",
       "3    1\n",
       "4    2\n",
       "Name: Gaya Belajar, dtype: int64"
      ]
     },
     "metadata": {},
     "execution_count": 45
    }
   ],
   "source": [
    "y_uji = datauji[\"Gaya Belajar\"]\n",
    "y_uji.head(5)"
   ]
  },
  {
   "cell_type": "code",
   "execution_count": 46,
   "metadata": {},
   "outputs": [
    {
     "output_type": "stream",
     "name": "stdout",
     "text": [
      "Prediksi Naive Bayes :  [2 2 2 1 2]\n"
     ]
    }
   ],
   "source": [
    "Y_predict = nbtrain.predict(x_test)\n",
    "print(\"Prediksi Naive Bayes : \",Y_predict)"
   ]
  },
  {
   "cell_type": "code",
   "execution_count": 47,
   "metadata": {},
   "outputs": [
    {
     "output_type": "stream",
     "name": "stdout",
     "text": [
      "Akurasi Naive Bayes :  0.6\n"
     ]
    }
   ],
   "source": [
    "from sklearn.metrics import accuracy_score\n",
    "accuracy= accuracy_score(y_uji, Y_predict)\n",
    "print(\"Akurasi Naive Bayes : \",accuracy)"
   ]
  },
  {
   "cell_type": "code",
   "execution_count": 48,
   "metadata": {},
   "outputs": [
    {
     "output_type": "stream",
     "name": "stdout",
     "text": [
      "              precision    recall  f1-score   support\n",
      "\n",
      "           1       1.00      1.00      1.00         1\n",
      "           2       0.50      1.00      0.67         2\n",
      "           3       0.00      0.00      0.00         2\n",
      "\n",
      "    accuracy                           0.60         5\n",
      "   macro avg       0.50      0.67      0.56         5\n",
      "weighted avg       0.40      0.60      0.47         5\n",
      "\n",
      "C:\\Users\\Muhammad Askar\\AppData\\Local\\Programs\\Python\\Python38-32\\lib\\site-packages\\sklearn\\metrics\\_classification.py:1221: UndefinedMetricWarning: Precision and F-score are ill-defined and being set to 0.0 in labels with no predicted samples. Use `zero_division` parameter to control this behavior.\n",
      "  _warn_prf(average, modifier, msg_start, len(result))\n"
     ]
    }
   ],
   "source": [
    "# Menghitung nilai akurasi dari klasifikasi naive bayes \n",
    "from sklearn.metrics import classification_report\n",
    "print(classification_report(y_uji, Y_predict))"
   ]
  }
 ]
}